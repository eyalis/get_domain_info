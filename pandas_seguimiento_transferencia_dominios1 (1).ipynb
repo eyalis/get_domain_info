{
  "nbformat": 4,
  "nbformat_minor": 0,
  "metadata": {
    "colab": {
      "name": "pandas_seguimiento_transferencia_dominios1.ipynb",
      "provenance": [],
      "collapsed_sections": []
    },
    "kernelspec": {
      "name": "python3",
      "display_name": "Python 3"
    },
    "language_info": {
      "name": "python"
    }
  },
  "cells": [
    {
      "cell_type": "markdown",
      "metadata": {
        "id": "My4ANnj8Gqqa"
      },
      "source": [
        "Este script realiza seguimiento de la información WhoIs y MX de los dominios que se listen en un google sheets.\n",
        "Para comenzar a utilizarlo:<br>\n",
        "1) Editar la URL del Google sheets que se use (primera columna, a partir de la segunda fila pegar los dominios)<br>\n",
        "2) Editar en el código el número máximo de filas a considerar (muy importante!)<br><br>\n",
        "\n",
        "-> Pueden haber límites de consultas diarias a las APIs."
      ]
    },
    {
      "cell_type": "code",
      "metadata": {
        "id": "anQRjW43CuWA",
        "colab": {
          "base_uri": "https://localhost:8080/"
        },
        "outputId": "1415746a-7153-4eb9-b9ba-3aae31a96f85"
      },
      "source": [
        "!pip3 install python-whois\n",
        "!pip3 install dnspython\n",
        "!pip3 install gspread-pandas\n",
        "!pip3 install gspread-dataframe\n",
        "!pip3 install gspread_formatting"
      ],
      "execution_count": 22,
      "outputs": [
        {
          "output_type": "stream",
          "name": "stdout",
          "text": [
            "Requirement already satisfied: python-whois in /usr/local/lib/python3.7/dist-packages (0.7.3)\n",
            "Requirement already satisfied: future in /usr/local/lib/python3.7/dist-packages (from python-whois) (0.16.0)\n",
            "Requirement already satisfied: dnspython in /usr/local/lib/python3.7/dist-packages (2.1.0)\n",
            "Requirement already satisfied: gspread-pandas in /usr/local/lib/python3.7/dist-packages (2.3.0)\n",
            "Requirement already satisfied: gspread>=3.0.0 in /usr/local/lib/python3.7/dist-packages (from gspread-pandas) (3.0.1)\n",
            "Requirement already satisfied: pandas>=0.20.0 in /usr/local/lib/python3.7/dist-packages (from gspread-pandas) (1.1.5)\n",
            "Requirement already satisfied: decorator in /usr/local/lib/python3.7/dist-packages (from gspread-pandas) (4.4.2)\n",
            "Requirement already satisfied: six in /usr/local/lib/python3.7/dist-packages (from gspread-pandas) (1.15.0)\n",
            "Requirement already satisfied: google-auth-oauthlib in /usr/local/lib/python3.7/dist-packages (from gspread-pandas) (0.4.6)\n",
            "Requirement already satisfied: google-auth in /usr/local/lib/python3.7/dist-packages (from gspread-pandas) (1.35.0)\n",
            "Requirement already satisfied: requests>=2.2.1 in /usr/local/lib/python3.7/dist-packages (from gspread>=3.0.0->gspread-pandas) (2.23.0)\n",
            "Requirement already satisfied: pytz>=2017.2 in /usr/local/lib/python3.7/dist-packages (from pandas>=0.20.0->gspread-pandas) (2018.9)\n",
            "Requirement already satisfied: python-dateutil>=2.7.3 in /usr/local/lib/python3.7/dist-packages (from pandas>=0.20.0->gspread-pandas) (2.8.2)\n",
            "Requirement already satisfied: numpy>=1.15.4 in /usr/local/lib/python3.7/dist-packages (from pandas>=0.20.0->gspread-pandas) (1.19.5)\n",
            "Requirement already satisfied: idna<3,>=2.5 in /usr/local/lib/python3.7/dist-packages (from requests>=2.2.1->gspread>=3.0.0->gspread-pandas) (2.10)\n",
            "Requirement already satisfied: certifi>=2017.4.17 in /usr/local/lib/python3.7/dist-packages (from requests>=2.2.1->gspread>=3.0.0->gspread-pandas) (2021.5.30)\n",
            "Requirement already satisfied: chardet<4,>=3.0.2 in /usr/local/lib/python3.7/dist-packages (from requests>=2.2.1->gspread>=3.0.0->gspread-pandas) (3.0.4)\n",
            "Requirement already satisfied: urllib3!=1.25.0,!=1.25.1,<1.26,>=1.21.1 in /usr/local/lib/python3.7/dist-packages (from requests>=2.2.1->gspread>=3.0.0->gspread-pandas) (1.24.3)\n",
            "Requirement already satisfied: cachetools<5.0,>=2.0.0 in /usr/local/lib/python3.7/dist-packages (from google-auth->gspread-pandas) (4.2.2)\n",
            "Requirement already satisfied: pyasn1-modules>=0.2.1 in /usr/local/lib/python3.7/dist-packages (from google-auth->gspread-pandas) (0.2.8)\n",
            "Requirement already satisfied: rsa<5,>=3.1.4 in /usr/local/lib/python3.7/dist-packages (from google-auth->gspread-pandas) (4.7.2)\n",
            "Requirement already satisfied: setuptools>=40.3.0 in /usr/local/lib/python3.7/dist-packages (from google-auth->gspread-pandas) (57.4.0)\n",
            "Requirement already satisfied: pyasn1<0.5.0,>=0.4.6 in /usr/local/lib/python3.7/dist-packages (from pyasn1-modules>=0.2.1->google-auth->gspread-pandas) (0.4.8)\n",
            "Requirement already satisfied: requests-oauthlib>=0.7.0 in /usr/local/lib/python3.7/dist-packages (from google-auth-oauthlib->gspread-pandas) (1.3.0)\n",
            "Requirement already satisfied: oauthlib>=3.0.0 in /usr/local/lib/python3.7/dist-packages (from requests-oauthlib>=0.7.0->google-auth-oauthlib->gspread-pandas) (3.1.1)\n",
            "Requirement already satisfied: gspread-dataframe in /usr/local/lib/python3.7/dist-packages (3.0.8)\n",
            "Requirement already satisfied: pandas>=0.14.0 in /usr/local/lib/python3.7/dist-packages (from gspread-dataframe) (1.1.5)\n",
            "Requirement already satisfied: gspread>=3.0.0 in /usr/local/lib/python3.7/dist-packages (from gspread-dataframe) (3.0.1)\n",
            "Requirement already satisfied: requests>=2.2.1 in /usr/local/lib/python3.7/dist-packages (from gspread>=3.0.0->gspread-dataframe) (2.23.0)\n",
            "Requirement already satisfied: numpy>=1.15.4 in /usr/local/lib/python3.7/dist-packages (from pandas>=0.14.0->gspread-dataframe) (1.19.5)\n",
            "Requirement already satisfied: python-dateutil>=2.7.3 in /usr/local/lib/python3.7/dist-packages (from pandas>=0.14.0->gspread-dataframe) (2.8.2)\n",
            "Requirement already satisfied: pytz>=2017.2 in /usr/local/lib/python3.7/dist-packages (from pandas>=0.14.0->gspread-dataframe) (2018.9)\n",
            "Requirement already satisfied: six>=1.5 in /usr/local/lib/python3.7/dist-packages (from python-dateutil>=2.7.3->pandas>=0.14.0->gspread-dataframe) (1.15.0)\n",
            "Requirement already satisfied: chardet<4,>=3.0.2 in /usr/local/lib/python3.7/dist-packages (from requests>=2.2.1->gspread>=3.0.0->gspread-dataframe) (3.0.4)\n",
            "Requirement already satisfied: urllib3!=1.25.0,!=1.25.1,<1.26,>=1.21.1 in /usr/local/lib/python3.7/dist-packages (from requests>=2.2.1->gspread>=3.0.0->gspread-dataframe) (1.24.3)\n",
            "Requirement already satisfied: idna<3,>=2.5 in /usr/local/lib/python3.7/dist-packages (from requests>=2.2.1->gspread>=3.0.0->gspread-dataframe) (2.10)\n",
            "Requirement already satisfied: certifi>=2017.4.17 in /usr/local/lib/python3.7/dist-packages (from requests>=2.2.1->gspread>=3.0.0->gspread-dataframe) (2021.5.30)\n",
            "Requirement already satisfied: gspread_formatting in /usr/local/lib/python3.7/dist-packages (1.0.4)\n",
            "Requirement already satisfied: gspread>=3.0.0 in /usr/local/lib/python3.7/dist-packages (from gspread_formatting) (3.0.1)\n",
            "Requirement already satisfied: requests>=2.2.1 in /usr/local/lib/python3.7/dist-packages (from gspread>=3.0.0->gspread_formatting) (2.23.0)\n",
            "Requirement already satisfied: certifi>=2017.4.17 in /usr/local/lib/python3.7/dist-packages (from requests>=2.2.1->gspread>=3.0.0->gspread_formatting) (2021.5.30)\n",
            "Requirement already satisfied: urllib3!=1.25.0,!=1.25.1,<1.26,>=1.21.1 in /usr/local/lib/python3.7/dist-packages (from requests>=2.2.1->gspread>=3.0.0->gspread_formatting) (1.24.3)\n",
            "Requirement already satisfied: chardet<4,>=3.0.2 in /usr/local/lib/python3.7/dist-packages (from requests>=2.2.1->gspread>=3.0.0->gspread_formatting) (3.0.4)\n",
            "Requirement already satisfied: idna<3,>=2.5 in /usr/local/lib/python3.7/dist-packages (from requests>=2.2.1->gspread>=3.0.0->gspread_formatting) (2.10)\n"
          ]
        }
      ]
    },
    {
      "cell_type": "code",
      "metadata": {
        "id": "QGCan4sGCW9y"
      },
      "source": [
        "import whois\n",
        "import dns\n",
        "import dns.resolver\n",
        "from google.colab import auth\n",
        "import gspread\n",
        "from oauth2client.client import GoogleCredentials\n",
        "import pandas as pd\n",
        "import matplotlib.pyplot as plt\n",
        "import time\n",
        "from gspread_dataframe import get_as_dataframe, set_with_dataframe\n",
        "from gspread_formatting.dataframe import format_with_dataframe"
      ],
      "execution_count": 23,
      "outputs": []
    },
    {
      "cell_type": "code",
      "metadata": {
        "id": "9xeze5wrD8Xe"
      },
      "source": [
        "auth.authenticate_user()\n",
        "gc = gspread.authorize(GoogleCredentials.get_application_default())\n",
        "# CAMBIAR POR URL DEL GOOGLE SHEETS QUE SE ESTÉ UTILIZANDO\n",
        "wb = gc.open_by_url('https://docs.google.com/spreadsheets/d/1GDcZVTmdlx485bVz0jbB1OTNhCYZPsyRS_eE8FBBOwo/edit#gid=0')\n",
        "# Se toma la hoja que se llama \"dominios\"\n",
        "sheet = wb.worksheet('dominios')\n",
        "data = sheet.get_all_values()\n",
        "\n",
        "df = pd.DataFrame(data)\n",
        "df.columns = df.iloc[0]\n",
        "\n",
        "# CAMBIAR SEGÚN EL NÚMERO DE FILAS QUE SE QUIERA INCLUIR EJ: [1:4], TOMARÁ DE FILAS 1 A LA 4\n",
        "df = df.iloc[1:926]"
      ],
      "execution_count": 33,
      "outputs": []
    },
    {
      "cell_type": "code",
      "metadata": {
        "id": "6_uf-qQ9D_Nz",
        "colab": {
          "base_uri": "https://localhost:8080/"
        },
        "outputId": "e5de0112-fe22-4cf5-c92f-d66803a15328"
      },
      "source": [
        "for i in range(len(df)):\n",
        "  domain_name = df.iloc[i][0]\n",
        "  domain='www.'+ domain_name\n",
        "  domain_info = whois.whois(domain)\n",
        " # print(domain_info)\n",
        "  # sheet.update_cell(i+2,2, domain_info.get('registrant_name', 'N/A'))\n",
        "  try:\n",
        "    df.at[i+1,'Titular']=domain_info.get('registrant_name', 'N/A')\n",
        "    # Get name servers\n",
        "    ns1, ns2 = domain_info.get('name_servers', 'N/A')[0], domain_info.get('name_servers', 'N/A')[1]\n",
        "    # sheet.update_cell(i+2,3, ns1)\n",
        "    df.at[i+1,'DNS1']=ns1\n",
        "    # sheet.update_cell(i+2,4, ns2)\n",
        "    df.at[i+1,'DNS2']=ns2\n",
        "  except:\n",
        "    print(\"Error\")\n",
        "  try:\n",
        "    answers = dns.resolver.query(domain_name, 'MX')\n",
        "    #index (desde qué n° de columna se empiezan a pegar los MX)\n",
        "    j=4\n",
        "    for rdata in answers:\n",
        "      # sheet.update_cell(i+2,j, rdata.exchange.to_text())\n",
        "      try:\n",
        "        df.iat[i,j]=rdata.exchange.to_text()\n",
        "      except:\n",
        "        print(\"Error\")\n",
        "      # sheet.update_cell(i+2,j+1, rdata.preference)\n",
        "      try:\n",
        "        df.iat[i,j+1]=rdata.preference\n",
        "        j=j+2\n",
        "      except:\n",
        "        print(\"Error\")\n",
        "  except:    \n",
        "    print(\"Error detectado\")\n"
      ],
      "execution_count": 56,
      "outputs": [
        {
          "output_type": "stream",
          "name": "stderr",
          "text": [
            "/usr/local/lib/python3.7/dist-packages/ipykernel_launcher.py:18: DeprecationWarning: please use dns.resolver.resolve() instead\n"
          ]
        },
        {
          "output_type": "stream",
          "name": "stdout",
          "text": [
            "Error detectado\n",
            "Error\n",
            "Error\n",
            "Error\n",
            "Error\n",
            "Error detectado\n",
            "Error detectado\n",
            "Error\n",
            "Error\n",
            "Error\n",
            "Error\n",
            "Error detectado\n",
            "Error detectado\n",
            "Error\n",
            "Error detectado\n",
            "Error\n",
            "Error\n",
            "Error\n",
            "Error\n",
            "Error\n",
            "Error\n",
            "Error\n",
            "Error\n",
            "Error\n",
            "Error\n",
            "Error\n",
            "Error\n",
            "Error detectado\n",
            "Error detectado\n",
            "Error detectado\n"
          ]
        }
      ]
    },
    {
      "cell_type": "code",
      "metadata": {
        "id": "ubVa5WKw3mnf",
        "colab": {
          "base_uri": "https://localhost:8080/"
        },
        "outputId": "d6bd8a34-8c6e-4706-c90d-ff5edd97f16b"
      },
      "source": [
        "set_with_dataframe(sheet, df)\n",
        "format_with_dataframe(sheet, df, include_column_header=True)"
      ],
      "execution_count": 57,
      "outputs": [
        {
          "output_type": "execute_result",
          "data": {
            "text/plain": [
              "{'replies': [{}, {}, {}, {}, {}, {}, {}, {}, {}, {}, {}, {}, {}, {}, {}],\n",
              " 'spreadsheetId': '1GDcZVTmdlx485bVz0jbB1OTNhCYZPsyRS_eE8FBBOwo'}"
            ]
          },
          "metadata": {},
          "execution_count": 57
        }
      ]
    }
  ]
}